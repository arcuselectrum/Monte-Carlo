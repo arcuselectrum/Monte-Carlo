{
 "cells": [
  {
   "cell_type": "code",
   "execution_count": 1,
   "metadata": {},
   "outputs": [],
   "source": [
    "import credentials # Api key is stored in this file, remove to avoid errors if you clone from github\n",
    "\n",
    "import pvdeg\n",
    "import pvlib\n",
    "import os \n",
    "import matplotlib.pyplot as plt\n",
    "import numpy as np\n",
    "import pandas as pd \n",
    "from scipy.linalg import cholesky\n",
    "from math import e as euler"
   ]
  },
  {
   "cell_type": "markdown",
   "metadata": {},
   "source": [
    "First get weather data and metadata for a desired location (latitude and logitude)"
   ]
  },
  {
   "cell_type": "code",
   "execution_count": 27,
   "metadata": {},
   "outputs": [
    {
     "name": "stderr",
     "output_type": "stream",
     "text": [
      "c:\\ProgramData\\anaconda3\\lib\\site-packages\\pvlib\\iotools\\psm3.py:185: pvlibDeprecationWarning: The ``get_psm3`` function will default to leap_day=True starting in pvlib 0.11.0. Specify leap_day=True to enable this behavior now, or specify leap_day=False to hide this warning.\n",
      "  warnings.warn(\n"
     ]
    }
   ],
   "source": [
    "# change to desired values (currently Miami)\n",
    "latitude = 25.783388\n",
    "longitude = -80.189029\n",
    "\n",
    "API_KEY = credentials.API_KEY # my personal NREL api key\n",
    "email ='tobin.ford@nrel.gov' # replace these values with your appropriate information and remove or comment out first line of first block (import credentials)\n",
    "\n",
    "# reads NSRDB data \n",
    "weather_df, meta = pvlib.iotools.get_psm3(latitude, longitude, API_KEY, email, names='2019', map_variables=True)"
   ]
  },
  {
   "cell_type": "markdown",
   "metadata": {},
   "source": [
    "User has 3 parameters for initial implementation: See Kempe's \"Deg Miami\" tab in excel<br>\n"
   ]
  },
  {
   "cell_type": "markdown",
   "metadata": {},
   "source": [
    "\n",
    "activation energy, Ea <br>\n",
    "irradiance relation, x<br>\n",
    "ln(R0)<br>\n",
    "\n",
    "          *________________________________________*\n",
    "          |             |            |             |\n",
    "    Ea    |       1     |      a     |      b      |\n",
    "          __________________________________________\n",
    "          |             |            |             |\n",
    "    x     |      a      |     1      |      c      |\n",
    "          __________________________________________\n",
    "          |             |            |             |\n",
    "  ln(R0)  |      b      |     c      |      1      |\n",
    "          __________________________________________\n",
    "          *     Ea            X           ln(R0)   *\n",
    "\n",
    "Notice symmetry across diagonal <br>"
   ]
  },
  {
   "cell_type": "code",
   "execution_count": 3,
   "metadata": {},
   "outputs": [],
   "source": [
    "# USER ENTERED VALUES\n",
    "# Correlation Coefficients\n",
    "Ea_X = 0.0269\n",
    "Ea_lnR0 = -0.9995\n",
    "X_lnR0 = -0.0400\n",
    "\n",
    "# Activation Energy\n",
    "mean_Ea = 129 # average\n",
    "sd_Ea = 3.4 # standard deviation\n",
    "\n",
    "# Irradiance relation\n",
    "mean_X = 0.0341 # average\n",
    "sd_X = 0.0992757 # standard deviation\n",
    "\n",
    "# ln(R0)\n",
    "mean_R0 = 13.7223084 \n",
    "sd_R0 = 2.47334772\n",
    "\n",
    "# number of iterations\n",
    "n = 20000\n"
   ]
  },
  {
   "cell_type": "code",
   "execution_count": 16,
   "metadata": {},
   "outputs": [],
   "source": [
    "# notice symmetry of matrix\n",
    "A = np.array([[1, Ea_X, Ea_lnR0],\n",
    "              [Ea_X, 1, X_lnR0],\n",
    "              [Ea_lnR0, X_lnR0, 1]])\n",
    "\n",
    "# conceptually similar to the square root of a matrix\n",
    "A_decomp = cholesky(A, lower=True)\n",
    "\n",
    "# generating standard distribution of points for each\n",
    "Ea, X, R0 = np.random.normal(mean_Ea, sd_Ea, 20_000), np.random.normal(mean_X, sd_X, 20_000), np.random.normal(mean_R0, sd_R0, 20_000)\n",
    "\n",
    "# transpose built in so I don't have to do it with another function\n",
    "samples_matrix = np.array([Ea, X, R0])\n",
    "\n"
   ]
  },
  {
   "cell_type": "code",
   "execution_count": 19,
   "metadata": {},
   "outputs": [],
   "source": [
    "# correlated stats pre-input to function\n",
    "\n",
    "# not entirely sure what I should do here,\n",
    "# do i multiply the transpose by the lower cholesky to get correlated input data for the equation on the spreadsheet\n",
    "# using MonteCarloEaLnRoX\n",
    "\n",
    "# this gives us correlated input samples\n",
    "# looks like what kempe's code was doing in \"MonteCarloEaLnRoX\" but it is hard to tell what's happening in his code\n",
    "correlated_samples = np.matmul(A_decomp, samples_matrix)\n",
    "\n",
    "correlated_df = pd.DataFrame(correlated_samples.T, columns=['Ea', 'X', 'R0'])\n",
    "\n",
    "# is back tracking on by default\n",
    "sol_pos = pvdeg.spectral.solar_position(weather_df, meta)\n",
    "poa_irradiance = pvdeg.spectral.poa_irradiance(weather_df, meta)\n",
    "temp_mod = pvdeg.temperature.module(weather_df=weather_df, meta=meta, poa=poa_irradiance, conf='open_rack_glass_polymer')\n",
    "# do I want total irradiance, what should I be using for the arrhenius calculation\n",
    "\n",
    "\n"
   ]
  },
  {
   "cell_type": "code",
   "execution_count": 6,
   "metadata": {},
   "outputs": [
    {
     "name": "stdout",
     "output_type": "stream",
     "text": [
      "52560\n",
      "43800\n",
      "8760\n"
     ]
    }
   ],
   "source": [
    "print(sol_pos.size)\n",
    "print(poa_irradiance.size)\n",
    "print(temp_mod.size)\n",
    "\n",
    "# these are different sizes so wont that cause an issue when calculating each sample"
   ]
  },
  {
   "cell_type": "code",
   "execution_count": 21,
   "metadata": {},
   "outputs": [
    {
     "name": "stdout",
     "output_type": "stream",
     "text": [
      "               Ea         X          R0\n",
      "0      129.878325  3.545131 -129.336837\n",
      "1      132.805579  3.494975 -132.452211\n",
      "2      130.714130  3.503698 -130.224614\n",
      "3      127.399972  3.409138 -126.931919\n",
      "4      130.216697  3.327067 -129.676277\n",
      "...           ...       ...         ...\n",
      "19995  129.716072  3.471444 -129.318808\n",
      "19996  130.104114  3.659237 -129.673832\n",
      "19997  127.151678  3.431890 -126.595575\n",
      "19998  130.120400  3.577373 -129.662059\n",
      "19999  134.060391  3.775842 -133.579515\n",
      "\n",
      "[20000 rows x 3 columns]\n"
     ]
    }
   ],
   "source": [
    "print(correlated_df)"
   ]
  },
  {
   "cell_type": "code",
   "execution_count": 48,
   "metadata": {},
   "outputs": [
    {
     "data": {
      "text/plain": [
       "20000"
      ]
     },
     "execution_count": 48,
     "metadata": {},
     "output_type": "execute_result"
    }
   ],
   "source": [
    "\n",
    "# want to map this behavior to the main part of the function\n",
    "A = [(weather_df['ghi'] / x).mean() for x in correlated_df['X']]\n",
    "\n",
    "len(A)"
   ]
  },
  {
   "cell_type": "code",
   "execution_count": 28,
   "metadata": {},
   "outputs": [],
   "source": [
    "def mikeArrhenius(weather_df, samples):\n",
    "# Ea1 = Ea(Z) / 8.31446261815324E-03 'This reduces the amount of calculations in the loop\n",
    "# Degradation(Z) = Degradation(Z) + Exp(LnRo(Z)) * Exp(-Ea1 / (273.15 + T(Y, 1))) * ((Irr(Y, 1) / 1000) ^ X(Z))\n",
    "\n",
    "\n",
    "    # FUNCTION for x,y,z in zip(correlated_df['X'], correlated_df['Ea'], corrleated_df['R0'])\n",
    "    d = np.exp(samples['R0']) * np.exp((samples['Ea'] / 8.31446261815324E-03) / (273.15 + weather_df['temp_air'])) * (weather_df['ghi'] / 1000 ** samples['X'])\n",
    "\n",
    "\n",
    "    d.mean()\n",
    "    \n",
    "    return d"
   ]
  },
  {
   "cell_type": "code",
   "execution_count": 35,
   "metadata": {},
   "outputs": [
    {
     "data": {
      "text/plain": [
       "2019-01-01 00:30:00-05:00    0.000000e+00\n",
       "2019-01-01 01:30:00-05:00    0.000000e+00\n",
       "2019-01-01 02:30:00-05:00    0.000000e+00\n",
       "2019-01-01 03:30:00-05:00    0.000000e+00\n",
       "2019-01-01 04:30:00-05:00    0.000000e+00\n",
       "2019-01-01 05:30:00-05:00    0.000000e+00\n",
       "2019-01-01 06:30:00-05:00    0.000000e+00\n",
       "2019-01-01 07:30:00-05:00    4.359787e-43\n",
       "2019-01-01 08:30:00-05:00    7.584390e-43\n",
       "2019-01-01 09:30:00-05:00    3.217322e-42\n",
       "2019-01-01 10:30:00-05:00    4.264557e-42\n",
       "2019-01-01 11:30:00-05:00    4.225921e-42\n",
       "2019-01-01 12:30:00-05:00    3.607111e-42\n",
       "2019-01-01 13:30:00-05:00    3.629845e-42\n",
       "2019-01-01 14:30:00-05:00    3.979152e-42\n",
       "2019-01-01 15:30:00-05:00    2.603456e-42\n",
       "2019-01-01 16:30:00-05:00    1.618972e-42\n",
       "2019-01-01 17:30:00-05:00    1.837951e-43\n",
       "2019-01-01 18:30:00-05:00    0.000000e+00\n",
       "2019-01-01 19:30:00-05:00    0.000000e+00\n",
       "2019-01-01 20:30:00-05:00    0.000000e+00\n",
       "2019-01-01 21:30:00-05:00    0.000000e+00\n",
       "2019-01-01 22:30:00-05:00    0.000000e+00\n",
       "2019-01-01 23:30:00-05:00    0.000000e+00\n",
       "dtype: float64"
      ]
     },
     "execution_count": 35,
     "metadata": {},
     "output_type": "execute_result"
    }
   ],
   "source": [
    "temp = mikeArrhenius(weather_df=weather_df, samples=correlated_df.iloc[0])\n",
    "\n",
    "temp.head(24)"
   ]
  },
  {
   "cell_type": "code",
   "execution_count": 38,
   "metadata": {},
   "outputs": [
    {
     "data": {
      "text/plain": [
       "1.438436135170337e-42"
      ]
     },
     "execution_count": 38,
     "metadata": {},
     "output_type": "execute_result"
    }
   ],
   "source": [
    "temp.mean()"
   ]
  },
  {
   "cell_type": "code",
   "execution_count": 8,
   "metadata": {},
   "outputs": [
    {
     "ename": "SyntaxError",
     "evalue": "incomplete input (3238403922.py, line 16)",
     "output_type": "error",
     "traceback": [
      "\u001b[1;36m  Cell \u001b[1;32mIn[8], line 16\u001b[1;36m\u001b[0m\n\u001b[1;33m    \u001b[0m\n\u001b[1;37m    ^\u001b[0m\n\u001b[1;31mSyntaxError\u001b[0m\u001b[1;31m:\u001b[0m incomplete input\n"
     ]
    }
   ],
   "source": [
    "# is T cell temp, it has the correct number of entries as the number of times kempe looped \n",
    "# what should I be using for irrandiance?\n",
    "# kempe seems to be using POA Sky Diffuse(W/m²)\n",
    "\n",
    "irr_sky_diffuse = poa_irradiance['poa_sky_diffuse']\n",
    "\n",
    "placeholder_df = pd.DataFrame()\n",
    "\n",
    "\n",
    "for i in range(n):\n",
    "    Ea1 = Ea[i] / 8.31446261815324E-03 # something to do with boltzman's constant, reduces number of calculations in loop\n",
    "    \n",
    "    for j in range(8760): # this might supposed to be 0-8760 noninclusive not sure because kempe did it this way\n",
    "\n",
    "\n",
    "        \n"
   ]
  },
  {
   "cell_type": "code",
   "execution_count": null,
   "metadata": {},
   "outputs": [
    {
     "data": {
      "text/plain": [
       "Text(0.5, 1.0, '$R_0$')"
      ]
     },
     "execution_count": 12,
     "metadata": {},
     "output_type": "execute_result"
    },
    {
     "data": {
      "image/png": "[encoded data removed]",
      "text/plain": [
       "<Figure size 640x480 with 3 Axes>"
      ]
     },
     "metadata": {},
     "output_type": "display_data"
    }
   ],
   "source": [
    "# spot check to view proper distribution\n",
    "figure, axis = plt.subplots(1, 3)\n",
    "\n",
    "axis[0].hist(samples_Ea, 40, density=True, edgecolor='black', label='Activation Energy')\n",
    "axis[0].set_title(\"Activation Energy\")\n",
    "\n",
    "axis[1].hist(samples_X, 40, density=True, edgecolor='black', label='Activation Energy')\n",
    "axis[1].set_title(\"Irradiance Relation\")\n",
    "\n",
    "axis[2].hist(samples_R0, 40, density=True, edgecolor='black', label='Activation Energy')\n",
    "axis[2].set_title(\"$R_0$\")\n"
   ]
  }
 ],
 "metadata": {
  "kernelspec": {
   "display_name": "base",
   "language": "python",
   "name": "python3"
  },
  "language_info": {
   "codemirror_mode": {
    "name": "ipython",
    "version": 3
   },
   "file_extension": ".py",
   "mimetype": "text/x-python",
   "name": "python",
   "nbconvert_exporter": "python",
   "pygments_lexer": "ipython3",
   "version": "3.10.9"
  }
 },
 "nbformat": 4,
 "nbformat_minor": 2
}
