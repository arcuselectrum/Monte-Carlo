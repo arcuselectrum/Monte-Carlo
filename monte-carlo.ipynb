{
 "cells": [
  {
   "cell_type": "code",
   "execution_count": 14,
   "metadata": {},
   "outputs": [],
   "source": [
    "import credentials # Api key is stored in this file, remove to avoid errors if you clone from github\n",
    "\n",
    "import pvdeg\n",
    "import pvlib\n",
    "import os \n",
    "import matplotlib.pyplot as plt\n",
    "import numpy as np\n",
    "import pandas as pd \n",
    "from scipy.linalg import cholesky"
   ]
  },
  {
   "cell_type": "markdown",
   "metadata": {},
   "source": [
    "First get weather data and metadata for a desired location (latitude and logitude)"
   ]
  },
  {
   "cell_type": "code",
   "execution_count": 15,
   "metadata": {},
   "outputs": [
    {
     "name": "stderr",
     "output_type": "stream",
     "text": [
      "c:\\ProgramData\\anaconda3\\lib\\site-packages\\pvlib\\iotools\\psm3.py:185: pvlibDeprecationWarning: The ``get_psm3`` function will default to leap_day=True starting in pvlib 0.11.0. Specify leap_day=True to enable this behavior now, or specify leap_day=False to hide this warning.\n",
      "  warnings.warn(\n"
     ]
    }
   ],
   "source": [
    "# change to desired values (currently Miami)\n",
    "latitude = 25.783388\n",
    "longitude = -80.189029\n",
    "\n",
    "API_KEY = credentials.API_KEY # my personal NREL api key\n",
    "email ='tobin.ford@nrel.gov' # replace these values with your appropriate information and remove or comment out first line of first block (import credentials)\n",
    "\n",
    "# reads NSRDB data \n",
    "weather_df, meta = pvlib.iotools.get_psm3(latitude, longitude, API_KEY, email, names='2019', map_variables=True)"
   ]
  },
  {
   "cell_type": "markdown",
   "metadata": {},
   "source": [
    "User has 3 parameters for initial implementation: See Kempe's \"Deg Miami\" tab in excel<br>\n"
   ]
  },
  {
   "attachments": {},
   "cell_type": "markdown",
   "metadata": {},
   "source": [
    "\n",
    "activation energy, Ea <br>\n",
    "irradiance relation, x<br>\n",
    "ln(R0)<br>\n",
    "\n",
    "|           |   Ea   |   x   | ln(R0) |\n",
    "|:---------:|:-----:|:----:|:-------:|\n",
    "|   **Ea**  |   1   |   a  |   b     |\n",
    "|   **x**   |   a   |   1  |   c     |\n",
    "| **ln(R0)**|   b   |   c  |   1     |\n",
    "\n",
    "Notice symmetry across diagonal <br>"
   ]
  },
  {
   "cell_type": "code",
   "execution_count": 118,
   "metadata": {},
   "outputs": [],
   "source": [
    "# USER ENTERED VALUES\n",
    "# Correlation Coefficients\n",
    "Ea_X = 0.0269\n",
    "Ea_lnR0 = -0.9995 \n",
    "X_lnR0 = -0.0400\n",
    "\n",
    "# Activation Energy\n",
    "mean_Ea = 62.08 # average\n",
    "sd_Ea = 7.3858 # standard deviation\n",
    "\n",
    "# Irradiance relation\n",
    "mean_X = 0.0341 # average\n",
    "sd_X = 0.0992757 # standard deviation\n",
    "\n",
    "# ln(R0)\n",
    "mean_lnR0 = 13.7223084 \n",
    "sd_lnR0 = 2.47334772\n",
    "\n",
    "# number of iterations\n",
    "n = 20000\n"
   ]
  },
  {
   "cell_type": "code",
   "execution_count": 129,
   "metadata": {},
   "outputs": [
    {
     "data": {
      "text/plain": [
       "(3, 20000)"
      ]
     },
     "execution_count": 129,
     "metadata": {},
     "output_type": "execute_result"
    }
   ],
   "source": [
    "# notice symmetry of matrix\n",
    "A = np.array([[1,   Ea_X,   Ea_lnR0],\n",
    "              [Ea_X,    1,   X_lnR0],\n",
    "              [Ea_lnR0, X_lnR0,   1]])\n",
    "\n",
    "# conceptually similar to the square root of a matrix\n",
    "A_decomp = cholesky(A, lower=True) # does it need to be upper, either way lnR0 values are very wrong\n",
    "\n",
    "# generating standard distribution of points for each\n",
    "ea, x, lnR0 = np.random.normal(mean_Ea, sd_Ea, 20_000), np.random.normal(mean_X, sd_X, 20_000), np.random.normal(mean_lnR0, sd_lnR0, 20_000)\n",
    "\n",
    "# transpose built in so I don't have to do it with another function\n",
    "samples_matrix = np.array([ea, x, lnR0])\n",
    "\n",
    "data = {\n",
    "    'ea': ea,\n",
    "    'x': x,\n",
    "    'lnR0': lnR0\n",
    "}\n",
    "\n",
    "uncorrelated_df = pd.DataFrame(data)"
   ]
  },
  {
   "cell_type": "code",
   "execution_count": 130,
   "metadata": {},
   "outputs": [],
   "source": [
    "data = {\n",
    "    'ea': ea,\n",
    "    'x': x,\n",
    "    'lnR0': lnR0\n",
    "}\n",
    "\n",
    "uncorrelated_df = pd.DataFrame(data)"
   ]
  },
  {
   "cell_type": "code",
   "execution_count": 156,
   "metadata": {},
   "outputs": [
    {
     "name": "stdout",
     "output_type": "stream",
     "text": [
      "[61.08364242 67.41366698 61.6170852  ... 61.69540837 63.92443513\n",
      " 73.2215795 ]\n",
      "[ 0.22582344  0.01695655  0.15120942 ... -0.09589325  0.09273276\n",
      " -0.0973393 ]\n",
      "[13.6018775  13.10790037 12.78734999 ... 16.08331126 14.42221943\n",
      " 11.11978797]\n",
      "35.35122443782616\n",
      "92.08061122639748\n",
      "\n",
      "-0.3247726302484897\n",
      "0.4410425300301098\n",
      "\n",
      "3.0889064251239926\n",
      "23.3330823652636\n",
      "\n"
     ]
    }
   ],
   "source": [
    "print(ea.min())\n",
    "print(ea.max())\n",
    "print()\n",
    "\n",
    "print(x.min())\n",
    "print(x.max())\n",
    "print()\n",
    "\n",
    "print(lnR0.min())\n",
    "print(lnR0.max())\n",
    "print()"
   ]
  },
  {
   "cell_type": "code",
   "execution_count": 114,
   "metadata": {},
   "outputs": [],
   "source": [
    "# correlated stats pre-input to function\n",
    "\n",
    "# not entirely sure what I should do here,\n",
    "# do i multiply the transpose by the lower cholesky to get correlated input data for the equation on the spreadsheet\n",
    "# using MonteCarloEaLnRoX\n",
    "\n",
    "# this gives us correlated input samples\n",
    "# looks like what kempe's code was doing in \"MonteCarloEaLnRoX\" but it is hard to tell what's happening in his code\n",
    "correlated_samples = np.matmul(A_decomp, samples_matrix)\n",
    "\n",
    "correlated_df = pd.DataFrame(correlated_samples.T, columns=['ea', 'x', 'lnR0'])\n",
    "\n",
    "sol_pos = pvdeg.spectral.solar_position(weather_df, meta)\n",
    "poa_irradiance = pvdeg.spectral.poa_irradiance(weather_df, meta)\n",
    "temp_mod = pvdeg.temperature.module(weather_df=weather_df, meta=meta, poa=poa_irradiance, conf='open_rack_glass_polymer')\n",
    "# we only care about global irradiance in this case\n"
   ]
  },
  {
   "cell_type": "code",
   "execution_count": 115,
   "metadata": {},
   "outputs": [
    {
     "name": "stdout",
     "output_type": "stream",
     "text": [
      "              ea         x       lnR0\n",
      "0      65.604340  1.783860 -65.221264\n",
      "1      66.963367  1.894129 -66.430842\n",
      "2      63.720007  1.790020 -63.266888\n",
      "3      46.086021  1.320460 -45.725141\n",
      "4      73.748773  1.750173 -73.383858\n",
      "...          ...       ...        ...\n",
      "19995  65.616039  1.838830 -65.162291\n",
      "19996  50.571004  1.280881 -50.173422\n",
      "19997  47.826794  1.412995 -47.433248\n",
      "19998  77.359359  2.016745 -76.921411\n",
      "19999  59.020193  1.623082 -58.447982\n",
      "\n",
      "[20000 rows x 3 columns]\n"
     ]
    }
   ],
   "source": [
    "print(correlated_df)"
   ]
  },
  {
   "cell_type": "code",
   "execution_count": 116,
   "metadata": {},
   "outputs": [
    {
     "name": "stdout",
     "output_type": "stream",
     "text": [
      "26.41720111791205\n",
      "92.14155728073086\n",
      "-91.69088006622732\n",
      "-26.01085300481374\n",
      "0.6411146460608543\n",
      "2.5393324260528165\n"
     ]
    }
   ],
   "source": [
    "# attempting to compare my function input values to kempe's from macro\n",
    "# Ea min:30.187\n",
    "# Ea max:89.94\n",
    "\n",
    "# lnR0 min: 4.477\n",
    "# lnR0 max: 24.31\n",
    "\n",
    "# X min:-0.387\n",
    "# X max: 0.415\n",
    "\n",
    "# uncorrelated samples of mine\n",
    "'''\n",
    "ea\n",
    "34.50720101130711\n",
    "95.14753086962446\n",
    "\n",
    "lnR0\n",
    "4.258833206368452\n",
    "23.659585717113735\n",
    "\n",
    "x\n",
    "-0.349302212696885\n",
    "0.4300323062342357\n",
    "'''\n",
    "# these are very similar to kempes that he was feeding to the arrhenius equation in the macro, not similar to my correlated variables at all?\n",
    "# what happens if i feed my uncorrelated variables to the function\n",
    "\n",
    "\n",
    "print(correlated_df['ea'].min())\n",
    "print(correlated_df['ea'].max())\n",
    "\n",
    "print(correlated_df['lnR0'].min())\n",
    "print(correlated_df['lnR0'].max())\n",
    "\n",
    "print(correlated_df['x'].min())\n",
    "print(correlated_df['x'].max())\n",
    "\n",
    "# can conclude there is something weird happening with my input data. "
   ]
  },
  {
   "cell_type": "code",
   "execution_count": 151,
   "metadata": {},
   "outputs": [],
   "source": [
    "# i know parameters I wrong but leaving for testing sake\n",
    "def mikeArrhenius(weather_df, samples):\n",
    "\n",
    "    #['Ea', 'X', 'lnR0']\n",
    "    #d = [(np.exp(z) * np.exp((x / 8.31446261815324E-03) / (273.15 + weather_df['temp_air'])) * (weather_df['ghi'] / 1000 ** y)).mean() for x, y, z in zip(samples['ea'], samples['x'], np.log(samples['lnR0']))]\n",
    "    \n",
    "    d = [(np.exp(z) * np.exp((x / 8.31446261815324E-03) / (273.15 + temp_mod)) * (poa_irradiance['poa_global'] / 1000 ** y)).mean() for x, y, z in zip(samples['ea'], samples['x'], np.log(samples['lnR0']))]\n",
    "    # tried using cell temp\n",
    "    # tried using poa\n",
    "\n",
    "    return pd.DataFrame(d)"
   ]
  },
  {
   "cell_type": "code",
   "execution_count": 152,
   "metadata": {},
   "outputs": [],
   "source": [
    "temp2 = mikeArrhenius(weather_df=weather_df, samples=uncorrelated_df) \n",
    "\n",
    "# trying with uncorrelated variables\n",
    "\n",
    "# difference is probably something about how I am passing values to the functions,\n",
    "# the original function takes data as arguments but the second just pulls them from globalscope, this could cause undesired behavior"
   ]
  },
  {
   "cell_type": "code",
   "execution_count": 154,
   "metadata": {},
   "outputs": [
    {
     "data": {
      "text/html": [
       "<div>\n",
       "<style scoped>\n",
       "    .dataframe tbody tr th:only-of-type {\n",
       "        vertical-align: middle;\n",
       "    }\n",
       "\n",
       "    .dataframe tbody tr th {\n",
       "        vertical-align: top;\n",
       "    }\n",
       "\n",
       "    .dataframe thead th {\n",
       "        text-align: right;\n",
       "    }\n",
       "</style>\n",
       "<table border=\"1\" class=\"dataframe\">\n",
       "  <thead>\n",
       "    <tr style=\"text-align: right;\">\n",
       "      <th></th>\n",
       "      <th>0</th>\n",
       "    </tr>\n",
       "  </thead>\n",
       "  <tbody>\n",
       "    <tr>\n",
       "      <th>0</th>\n",
       "      <td>2.545516e+13</td>\n",
       "    </tr>\n",
       "    <tr>\n",
       "      <th>1</th>\n",
       "      <td>1.317913e+15</td>\n",
       "    </tr>\n",
       "    <tr>\n",
       "      <th>2</th>\n",
       "      <td>4.963486e+13</td>\n",
       "    </tr>\n",
       "    <tr>\n",
       "      <th>3</th>\n",
       "      <td>7.230700e+13</td>\n",
       "    </tr>\n",
       "    <tr>\n",
       "      <th>4</th>\n",
       "      <td>1.833524e+12</td>\n",
       "    </tr>\n",
       "    <tr>\n",
       "      <th>5</th>\n",
       "      <td>3.247497e+16</td>\n",
       "    </tr>\n",
       "    <tr>\n",
       "      <th>6</th>\n",
       "      <td>1.445010e+14</td>\n",
       "    </tr>\n",
       "    <tr>\n",
       "      <th>7</th>\n",
       "      <td>6.303645e+13</td>\n",
       "    </tr>\n",
       "    <tr>\n",
       "      <th>8</th>\n",
       "      <td>4.152183e+13</td>\n",
       "    </tr>\n",
       "    <tr>\n",
       "      <th>9</th>\n",
       "      <td>9.094371e+13</td>\n",
       "    </tr>\n",
       "    <tr>\n",
       "      <th>10</th>\n",
       "      <td>9.671809e+13</td>\n",
       "    </tr>\n",
       "    <tr>\n",
       "      <th>11</th>\n",
       "      <td>1.401575e+14</td>\n",
       "    </tr>\n",
       "    <tr>\n",
       "      <th>12</th>\n",
       "      <td>1.378572e+16</td>\n",
       "    </tr>\n",
       "    <tr>\n",
       "      <th>13</th>\n",
       "      <td>9.033217e+12</td>\n",
       "    </tr>\n",
       "    <tr>\n",
       "      <th>14</th>\n",
       "      <td>6.324854e+14</td>\n",
       "    </tr>\n",
       "    <tr>\n",
       "      <th>15</th>\n",
       "      <td>2.703745e+13</td>\n",
       "    </tr>\n",
       "    <tr>\n",
       "      <th>16</th>\n",
       "      <td>3.240365e+16</td>\n",
       "    </tr>\n",
       "    <tr>\n",
       "      <th>17</th>\n",
       "      <td>2.234159e+15</td>\n",
       "    </tr>\n",
       "    <tr>\n",
       "      <th>18</th>\n",
       "      <td>3.023290e+13</td>\n",
       "    </tr>\n",
       "    <tr>\n",
       "      <th>19</th>\n",
       "      <td>3.262145e+14</td>\n",
       "    </tr>\n",
       "    <tr>\n",
       "      <th>20</th>\n",
       "      <td>6.183028e+14</td>\n",
       "    </tr>\n",
       "    <tr>\n",
       "      <th>21</th>\n",
       "      <td>1.277864e+13</td>\n",
       "    </tr>\n",
       "    <tr>\n",
       "      <th>22</th>\n",
       "      <td>2.917193e+13</td>\n",
       "    </tr>\n",
       "    <tr>\n",
       "      <th>23</th>\n",
       "      <td>4.075549e+12</td>\n",
       "    </tr>\n",
       "  </tbody>\n",
       "</table>\n",
       "</div>"
      ],
      "text/plain": [
       "               0\n",
       "0   2.545516e+13\n",
       "1   1.317913e+15\n",
       "2   4.963486e+13\n",
       "3   7.230700e+13\n",
       "4   1.833524e+12\n",
       "5   3.247497e+16\n",
       "6   1.445010e+14\n",
       "7   6.303645e+13\n",
       "8   4.152183e+13\n",
       "9   9.094371e+13\n",
       "10  9.671809e+13\n",
       "11  1.401575e+14\n",
       "12  1.378572e+16\n",
       "13  9.033217e+12\n",
       "14  6.324854e+14\n",
       "15  2.703745e+13\n",
       "16  3.240365e+16\n",
       "17  2.234159e+15\n",
       "18  3.023290e+13\n",
       "19  3.262145e+14\n",
       "20  6.183028e+14\n",
       "21  1.277864e+13\n",
       "22  2.917193e+13\n",
       "23  4.075549e+12"
      ]
     },
     "execution_count": 154,
     "metadata": {},
     "output_type": "execute_result"
    }
   ],
   "source": [
    "temp2.head(24) \n",
    "# each row shows the degredation rate for that given monte carlo trial iteration\n",
    "# data frame indexes are integers corresponding to each trial"
   ]
  }
 ],
 "metadata": {
  "kernelspec": {
   "display_name": "Python 3",
   "language": "python",
   "name": "python3"
  },
  "language_info": {
   "codemirror_mode": {
    "name": "ipython",
    "version": 3
   },
   "file_extension": ".py",
   "mimetype": "text/x-python",
   "name": "python",
   "nbconvert_exporter": "python",
   "pygments_lexer": "ipython3",
   "version": "3.10.9"
  },
  "vscode": {
   "interpreter": {
    "hash": "aee8b7b246df8f9039afb4144a1f6fd8d2ca17a180786b69acc140d282b71a49"
   }
  }
 },
 "nbformat": 4,
 "nbformat_minor": 2
}
