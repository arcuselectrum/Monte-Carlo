{
 "cells": [
  {
   "cell_type": "code",
   "execution_count": 7,
   "metadata": {},
   "outputs": [],
   "source": [
    "import credentials # Api key is stored in this file, remove to avoid errors if you clone from github\n",
    "\n",
    "import pvdeg\n",
    "import pvlib\n",
    "import os \n",
    "import matplotlib.pyplot as plt\n",
    "import numpy as np\n",
    "import pandas as pd \n",
    "from scipy.linalg import cholesky\n",
    "# from math import e as euler"
   ]
  },
  {
   "cell_type": "markdown",
   "metadata": {},
   "source": [
    "First get weather data and metadata for a desired location (latitude and logitude)"
   ]
  },
  {
   "cell_type": "code",
   "execution_count": 8,
   "metadata": {},
   "outputs": [
    {
     "name": "stderr",
     "output_type": "stream",
     "text": [
      "/Library/Frameworks/Python.framework/Versions/3.11/lib/python3.11/site-packages/pvlib/iotools/psm3.py:183: pvlibDeprecationWarning: The ``get_psm3`` function will default to leap_day=True starting in pvlib 0.11.0. Specify leap_day=True to enable this behavior now, or specify leap_day=False to hide this warning.\n",
      "  warnings.warn(\n"
     ]
    }
   ],
   "source": [
    "# change to desired values (currently Miami)\n",
    "latitude = 25.783388\n",
    "longitude = -80.189029\n",
    "\n",
    "API_KEY = credentials.API_KEY # my personal NREL api key\n",
    "email ='tobin.ford@nrel.gov' # replace these values with your appropriate information and remove or comment out first line of first block (import credentials)\n",
    "\n",
    "# reads NSRDB data \n",
    "weather_df, meta = pvlib.iotools.get_psm3(latitude, longitude, API_KEY, email, names='2019', map_variables=True)"
   ]
  },
  {
   "cell_type": "markdown",
   "metadata": {},
   "source": [
    "User has 3 parameters for initial implementation: See Kempe's \"Deg Miami\" tab in excel<br>\n"
   ]
  },
  {
   "cell_type": "markdown",
   "metadata": {},
   "source": [
    "\n",
    "activation energy, Ea <br>\n",
    "irradiance relation, x<br>\n",
    "ln(R0)<br>\n",
    "\n",
    "          *________________________________________*\n",
    "          |             |            |             |\n",
    "    Ea    |       1     |      a     |      b      |\n",
    "          __________________________________________\n",
    "          |             |            |             |\n",
    "    x     |      a      |     1      |      c      |\n",
    "          __________________________________________\n",
    "          |             |            |             |\n",
    "  ln(R0)  |      b      |     c      |      1      |\n",
    "          __________________________________________\n",
    "          *     Ea            X           ln(R0)   *\n",
    "\n",
    "Notice symmetry across diagonal <br>"
   ]
  },
  {
   "cell_type": "code",
   "execution_count": 9,
   "metadata": {},
   "outputs": [],
   "source": [
    "# USER ENTERED VALUES\n",
    "# Correlation Coefficients\n",
    "Ea_X = 0.0269\n",
    "Ea_lnR0 = -0.9995\n",
    "X_lnR0 = -0.0400\n",
    "\n",
    "# Activation Energy\n",
    "mean_Ea = 129 # average\n",
    "sd_Ea = 3.4 # standard deviation\n",
    "\n",
    "# Irradiance relation\n",
    "mean_X = 0.0341 # average\n",
    "sd_X = 0.0992757 # standard deviation\n",
    "\n",
    "# ln(R0)\n",
    "mean_R0 = 13.7223084 \n",
    "sd_R0 = 2.47334772\n",
    "\n",
    "# number of iterations\n",
    "n = 20000\n"
   ]
  },
  {
   "cell_type": "code",
   "execution_count": 10,
   "metadata": {},
   "outputs": [],
   "source": [
    "# notice symmetry of matrix\n",
    "A = np.array([[1, Ea_X, Ea_lnR0],\n",
    "              [Ea_X, 1, X_lnR0],\n",
    "              [Ea_lnR0, X_lnR0, 1]])\n",
    "\n",
    "# conceptually similar to the square root of a matrix\n",
    "A_decomp = cholesky(A, lower=True)\n",
    "\n",
    "# generating standard distribution of points for each\n",
    "Ea, X, R0 = np.random.normal(mean_Ea, sd_Ea, 20_000), np.random.normal(mean_X, sd_X, 20_000), np.random.normal(mean_R0, sd_R0, 20_000)\n",
    "\n",
    "# transpose built in so I don't have to do it with another function\n",
    "samples_matrix = np.array([Ea, X, R0])\n",
    "\n"
   ]
  },
  {
   "cell_type": "code",
   "execution_count": 11,
   "metadata": {},
   "outputs": [],
   "source": [
    "# correlated stats pre-input to function\n",
    "\n",
    "# not entirely sure what I should do here,\n",
    "# do i multiply the transpose by the lower cholesky to get correlated input data for the equation on the spreadsheet\n",
    "# using MonteCarloEaLnRoX\n",
    "\n",
    "# this gives us correlated input samples\n",
    "# looks like what kempe's code was doing in \"MonteCarloEaLnRoX\" but it is hard to tell what's happening in his code\n",
    "correlated_samples = np.matmul(A_decomp, samples_matrix)\n",
    "\n",
    "correlated_df = pd.DataFrame(correlated_samples.T, columns=['Ea', 'X', 'R0'])\n",
    "\n",
    "# is back tracking on by default\n",
    "sol_pos = pvdeg.spectral.solar_position(weather_df, meta)\n",
    "poa_irradiance = pvdeg.spectral.poa_irradiance(weather_df, meta)\n",
    "temp_mod = pvdeg.temperature.module(weather_df=weather_df, meta=meta, poa=poa_irradiance, conf='open_rack_glass_polymer')\n",
    "# we only care about global irradiance in this case\n"
   ]
  },
  {
   "cell_type": "code",
   "execution_count": 12,
   "metadata": {},
   "outputs": [
    {
     "name": "stdout",
     "output_type": "stream",
     "text": [
      "52560\n",
      "43800\n",
      "8760\n"
     ]
    }
   ],
   "source": [
    "print(sol_pos.size)\n",
    "print(poa_irradiance.size)\n",
    "print(temp_mod.size)\n",
    "\n",
    "# these are different sizes so wont that cause an issue when calculating each sample"
   ]
  },
  {
   "cell_type": "code",
   "execution_count": 13,
   "metadata": {},
   "outputs": [
    {
     "name": "stdout",
     "output_type": "stream",
     "text": [
      "               Ea         X          R0\n",
      "0      122.544570  3.233868 -122.015361\n",
      "1      126.587639  3.310007 -126.151832\n",
      "2      121.884196  3.069833 -121.606879\n",
      "3      129.449786  3.579867 -129.058431\n",
      "4      125.298360  3.452150 -124.883336\n",
      "...           ...       ...         ...\n",
      "19995  134.223641  3.717847 -133.832049\n",
      "19996  129.959373  3.452712 -129.554617\n",
      "19997  125.500272  3.325523 -125.009276\n",
      "19998  126.046444  3.290154 -125.657344\n",
      "19999  132.085803  3.673479 -131.662112\n",
      "\n",
      "[20000 rows x 3 columns]\n"
     ]
    }
   ],
   "source": [
    "print(correlated_df)"
   ]
  },
  {
   "cell_type": "code",
   "execution_count": 14,
   "metadata": {},
   "outputs": [
    {
     "data": {
      "text/plain": [
       "20000"
      ]
     },
     "execution_count": 14,
     "metadata": {},
     "output_type": "execute_result"
    }
   ],
   "source": [
    "# list comprehension \n",
    "# want to map this behavior to the main part of the function\n",
    "A = [(weather_df['ghi'] / x).mean() for x in correlated_df['X']]\n",
    "\n",
    "len(A)"
   ]
  },
  {
   "cell_type": "code",
   "execution_count": 15,
   "metadata": {},
   "outputs": [],
   "source": [
    "def mikeArrhenius(weather_df, samples):\n",
    "# Ea1 = Ea(Z) / 8.31446261815324E-03 'This reduces the amount of calculations in the loop\n",
    "# Degradation(Z) = Degradation(Z) + Exp(LnRo(Z)) * Exp(-Ea1 / (273.15 + T(Y, 1))) * ((Irr(Y, 1) / 1000) ^ X(Z))\n",
    "\n",
    "\n",
    "    # FUNCTION for x,y,z in zip(correlated_df['X'], correlated_df['Ea'], corrleated_df['R0'])\n",
    "    d = np.exp(samples['R0']) * np.exp((samples['Ea'] / 8.31446261815324E-03) / (273.15 + weather_df['temp_air'])) * (weather_df['ghi'] / 1000 ** samples['X'])\n",
    "\n",
    "\n",
    "    #d.mean()\n",
    "    \n",
    "    return pd.DataFrame(d)"
   ]
  },
  {
   "cell_type": "code",
   "execution_count": 23,
   "metadata": {},
   "outputs": [],
   "source": [
    "def mikeArrhenius2(weather_df, samples): # not using argument properly, it didnt like when i did this\n",
    "\n",
    "    #['Ea', 'X', 'R0']\n",
    "    # d = [(np.exp(z) * np.exp((x / 8.31446261815324E-03) / (273.15 + weather_df['temp_air'])) * (weather_df['ghi'] / 1000 ** y)).mean() for x, y, z in zip(correlated_df['Ea'], correlated_df['X'], correlated_df['R0'])]\n",
    "    d = [(np.exp(z) * np.exp((x / 8.31446261815324E-03) / (273.15 + weather_df['temp_air'])) * (weather_df['ghi'] / 1000 ** y)).mean() for x, y, z in zip(correlated_df['Ea'], correlated_df['X'], correlated_df['R0'])]\n",
    "    # added .mean(), is this right\n",
    "\n",
    "    return pd.DataFrame(d)"
   ]
  },
  {
   "cell_type": "code",
   "execution_count": 24,
   "metadata": {},
   "outputs": [],
   "source": [
    "temp1 = mikeArrhenius(weather_df=weather_df, samples=correlated_df.iloc[0]) # works mostly as desired\n",
    "\n",
    "temp2 = mikeArrhenius2(weather_df=weather_df, samples=correlated_df.iloc[0]) # gets mad if i pass as value\n",
    "\n",
    "# difference is probably something about how I am passing values to the functions,\n",
    "# the original function takes data as arguments but the second just pulls them from globalscope, this could cause undesired behavior"
   ]
  },
  {
   "cell_type": "code",
   "execution_count": 25,
   "metadata": {},
   "outputs": [
    {
     "data": {
      "text/html": [
       "<div>\n",
       "<style scoped>\n",
       "    .dataframe tbody tr th:only-of-type {\n",
       "        vertical-align: middle;\n",
       "    }\n",
       "\n",
       "    .dataframe tbody tr th {\n",
       "        vertical-align: top;\n",
       "    }\n",
       "\n",
       "    .dataframe thead th {\n",
       "        text-align: right;\n",
       "    }\n",
       "</style>\n",
       "<table border=\"1\" class=\"dataframe\">\n",
       "  <thead>\n",
       "    <tr style=\"text-align: right;\">\n",
       "      <th></th>\n",
       "      <th>0</th>\n",
       "    </tr>\n",
       "  </thead>\n",
       "  <tbody>\n",
       "    <tr>\n",
       "      <th>2019-01-01 00:30:00-05:00</th>\n",
       "      <td>0.000000e+00</td>\n",
       "    </tr>\n",
       "    <tr>\n",
       "      <th>2019-01-01 01:30:00-05:00</th>\n",
       "      <td>0.000000e+00</td>\n",
       "    </tr>\n",
       "    <tr>\n",
       "      <th>2019-01-01 02:30:00-05:00</th>\n",
       "      <td>0.000000e+00</td>\n",
       "    </tr>\n",
       "    <tr>\n",
       "      <th>2019-01-01 03:30:00-05:00</th>\n",
       "      <td>0.000000e+00</td>\n",
       "    </tr>\n",
       "    <tr>\n",
       "      <th>2019-01-01 04:30:00-05:00</th>\n",
       "      <td>0.000000e+00</td>\n",
       "    </tr>\n",
       "    <tr>\n",
       "      <th>2019-01-01 05:30:00-05:00</th>\n",
       "      <td>0.000000e+00</td>\n",
       "    </tr>\n",
       "    <tr>\n",
       "      <th>2019-01-01 06:30:00-05:00</th>\n",
       "      <td>0.000000e+00</td>\n",
       "    </tr>\n",
       "    <tr>\n",
       "      <th>2019-01-01 07:30:00-05:00</th>\n",
       "      <td>2.923853e-40</td>\n",
       "    </tr>\n",
       "    <tr>\n",
       "      <th>2019-01-01 08:30:00-05:00</th>\n",
       "      <td>9.645497e-40</td>\n",
       "    </tr>\n",
       "    <tr>\n",
       "      <th>2019-01-01 09:30:00-05:00</th>\n",
       "      <td>2.238591e-39</td>\n",
       "    </tr>\n",
       "    <tr>\n",
       "      <th>2019-01-01 10:30:00-05:00</th>\n",
       "      <td>2.820976e-39</td>\n",
       "    </tr>\n",
       "    <tr>\n",
       "      <th>2019-01-01 11:30:00-05:00</th>\n",
       "      <td>3.090862e-39</td>\n",
       "    </tr>\n",
       "    <tr>\n",
       "      <th>2019-01-01 12:30:00-05:00</th>\n",
       "      <td>2.586852e-39</td>\n",
       "    </tr>\n",
       "    <tr>\n",
       "      <th>2019-01-01 13:30:00-05:00</th>\n",
       "      <td>3.241294e-39</td>\n",
       "    </tr>\n",
       "    <tr>\n",
       "      <th>2019-01-01 14:30:00-05:00</th>\n",
       "      <td>2.828925e-39</td>\n",
       "    </tr>\n",
       "    <tr>\n",
       "      <th>2019-01-01 15:30:00-05:00</th>\n",
       "      <td>2.068355e-39</td>\n",
       "    </tr>\n",
       "    <tr>\n",
       "      <th>2019-01-01 16:30:00-05:00</th>\n",
       "      <td>1.099109e-39</td>\n",
       "    </tr>\n",
       "    <tr>\n",
       "      <th>2019-01-01 17:30:00-05:00</th>\n",
       "      <td>1.236289e-40</td>\n",
       "    </tr>\n",
       "    <tr>\n",
       "      <th>2019-01-01 18:30:00-05:00</th>\n",
       "      <td>0.000000e+00</td>\n",
       "    </tr>\n",
       "    <tr>\n",
       "      <th>2019-01-01 19:30:00-05:00</th>\n",
       "      <td>0.000000e+00</td>\n",
       "    </tr>\n",
       "    <tr>\n",
       "      <th>2019-01-01 20:30:00-05:00</th>\n",
       "      <td>0.000000e+00</td>\n",
       "    </tr>\n",
       "    <tr>\n",
       "      <th>2019-01-01 21:30:00-05:00</th>\n",
       "      <td>0.000000e+00</td>\n",
       "    </tr>\n",
       "    <tr>\n",
       "      <th>2019-01-01 22:30:00-05:00</th>\n",
       "      <td>0.000000e+00</td>\n",
       "    </tr>\n",
       "    <tr>\n",
       "      <th>2019-01-01 23:30:00-05:00</th>\n",
       "      <td>0.000000e+00</td>\n",
       "    </tr>\n",
       "  </tbody>\n",
       "</table>\n",
       "</div>"
      ],
      "text/plain": [
       "                                      0\n",
       "2019-01-01 00:30:00-05:00  0.000000e+00\n",
       "2019-01-01 01:30:00-05:00  0.000000e+00\n",
       "2019-01-01 02:30:00-05:00  0.000000e+00\n",
       "2019-01-01 03:30:00-05:00  0.000000e+00\n",
       "2019-01-01 04:30:00-05:00  0.000000e+00\n",
       "2019-01-01 05:30:00-05:00  0.000000e+00\n",
       "2019-01-01 06:30:00-05:00  0.000000e+00\n",
       "2019-01-01 07:30:00-05:00  2.923853e-40\n",
       "2019-01-01 08:30:00-05:00  9.645497e-40\n",
       "2019-01-01 09:30:00-05:00  2.238591e-39\n",
       "2019-01-01 10:30:00-05:00  2.820976e-39\n",
       "2019-01-01 11:30:00-05:00  3.090862e-39\n",
       "2019-01-01 12:30:00-05:00  2.586852e-39\n",
       "2019-01-01 13:30:00-05:00  3.241294e-39\n",
       "2019-01-01 14:30:00-05:00  2.828925e-39\n",
       "2019-01-01 15:30:00-05:00  2.068355e-39\n",
       "2019-01-01 16:30:00-05:00  1.099109e-39\n",
       "2019-01-01 17:30:00-05:00  1.236289e-40\n",
       "2019-01-01 18:30:00-05:00  0.000000e+00\n",
       "2019-01-01 19:30:00-05:00  0.000000e+00\n",
       "2019-01-01 20:30:00-05:00  0.000000e+00\n",
       "2019-01-01 21:30:00-05:00  0.000000e+00\n",
       "2019-01-01 22:30:00-05:00  0.000000e+00\n",
       "2019-01-01 23:30:00-05:00  0.000000e+00"
      ]
     },
     "execution_count": 25,
     "metadata": {},
     "output_type": "execute_result"
    }
   ],
   "source": [
    "temp1.head(24)"
   ]
  },
  {
   "cell_type": "code",
   "execution_count": 26,
   "metadata": {},
   "outputs": [
    {
     "data": {
      "text/html": [
       "<div>\n",
       "<style scoped>\n",
       "    .dataframe tbody tr th:only-of-type {\n",
       "        vertical-align: middle;\n",
       "    }\n",
       "\n",
       "    .dataframe tbody tr th {\n",
       "        vertical-align: top;\n",
       "    }\n",
       "\n",
       "    .dataframe thead th {\n",
       "        text-align: right;\n",
       "    }\n",
       "</style>\n",
       "<table border=\"1\" class=\"dataframe\">\n",
       "  <thead>\n",
       "    <tr style=\"text-align: right;\">\n",
       "      <th></th>\n",
       "      <th>0</th>\n",
       "    </tr>\n",
       "  </thead>\n",
       "  <tbody>\n",
       "    <tr>\n",
       "      <th>0</th>\n",
       "      <td>9.962234e-40</td>\n",
       "    </tr>\n",
       "    <tr>\n",
       "      <th>1</th>\n",
       "      <td>4.793767e-41</td>\n",
       "    </tr>\n",
       "    <tr>\n",
       "      <th>2</th>\n",
       "      <td>3.567561e-39</td>\n",
       "    </tr>\n",
       "    <tr>\n",
       "      <th>3</th>\n",
       "      <td>1.286815e-42</td>\n",
       "    </tr>\n",
       "    <tr>\n",
       "      <th>4</th>\n",
       "      <td>3.798554e-41</td>\n",
       "    </tr>\n",
       "    <tr>\n",
       "      <th>5</th>\n",
       "      <td>9.553057e-42</td>\n",
       "    </tr>\n",
       "    <tr>\n",
       "      <th>6</th>\n",
       "      <td>1.576381e-41</td>\n",
       "    </tr>\n",
       "    <tr>\n",
       "      <th>7</th>\n",
       "      <td>7.347084e-43</td>\n",
       "    </tr>\n",
       "    <tr>\n",
       "      <th>8</th>\n",
       "      <td>3.085377e-43</td>\n",
       "    </tr>\n",
       "    <tr>\n",
       "      <th>9</th>\n",
       "      <td>2.899669e-42</td>\n",
       "    </tr>\n",
       "    <tr>\n",
       "      <th>10</th>\n",
       "      <td>1.972722e-41</td>\n",
       "    </tr>\n",
       "    <tr>\n",
       "      <th>11</th>\n",
       "      <td>2.631667e-42</td>\n",
       "    </tr>\n",
       "    <tr>\n",
       "      <th>12</th>\n",
       "      <td>1.079454e-43</td>\n",
       "    </tr>\n",
       "    <tr>\n",
       "      <th>13</th>\n",
       "      <td>3.963183e-40</td>\n",
       "    </tr>\n",
       "    <tr>\n",
       "      <th>14</th>\n",
       "      <td>1.200541e-42</td>\n",
       "    </tr>\n",
       "    <tr>\n",
       "      <th>15</th>\n",
       "      <td>1.365103e-44</td>\n",
       "    </tr>\n",
       "    <tr>\n",
       "      <th>16</th>\n",
       "      <td>4.628741e-44</td>\n",
       "    </tr>\n",
       "    <tr>\n",
       "      <th>17</th>\n",
       "      <td>4.514664e-42</td>\n",
       "    </tr>\n",
       "    <tr>\n",
       "      <th>18</th>\n",
       "      <td>2.695607e-41</td>\n",
       "    </tr>\n",
       "    <tr>\n",
       "      <th>19</th>\n",
       "      <td>1.282985e-41</td>\n",
       "    </tr>\n",
       "    <tr>\n",
       "      <th>20</th>\n",
       "      <td>9.799012e-44</td>\n",
       "    </tr>\n",
       "    <tr>\n",
       "      <th>21</th>\n",
       "      <td>1.817220e-42</td>\n",
       "    </tr>\n",
       "    <tr>\n",
       "      <th>22</th>\n",
       "      <td>4.590416e-40</td>\n",
       "    </tr>\n",
       "    <tr>\n",
       "      <th>23</th>\n",
       "      <td>7.927852e-44</td>\n",
       "    </tr>\n",
       "  </tbody>\n",
       "</table>\n",
       "</div>"
      ],
      "text/plain": [
       "               0\n",
       "0   9.962234e-40\n",
       "1   4.793767e-41\n",
       "2   3.567561e-39\n",
       "3   1.286815e-42\n",
       "4   3.798554e-41\n",
       "5   9.553057e-42\n",
       "6   1.576381e-41\n",
       "7   7.347084e-43\n",
       "8   3.085377e-43\n",
       "9   2.899669e-42\n",
       "10  1.972722e-41\n",
       "11  2.631667e-42\n",
       "12  1.079454e-43\n",
       "13  3.963183e-40\n",
       "14  1.200541e-42\n",
       "15  1.365103e-44\n",
       "16  4.628741e-44\n",
       "17  4.514664e-42\n",
       "18  2.695607e-41\n",
       "19  1.282985e-41\n",
       "20  9.799012e-44\n",
       "21  1.817220e-42\n",
       "22  4.590416e-40\n",
       "23  7.927852e-44"
      ]
     },
     "execution_count": 26,
     "metadata": {},
     "output_type": "execute_result"
    }
   ],
   "source": [
    "temp2.head(24) # what does each row represent???, why are there integers (see the function call cell)"
   ]
  },
  {
   "cell_type": "code",
   "execution_count": 28,
   "metadata": {},
   "outputs": [
    {
     "data": {
      "text/plain": [
       "Text(0.5, 1.0, '$R_0$')"
      ]
     },
     "execution_count": 28,
     "metadata": {},
     "output_type": "execute_result"
    },
    {
     "data": {
      "image/png": "[encoded data removed]",
      "text/plain": [
       "<Figure size 640x480 with 3 Axes>"
      ]
     },
     "metadata": {},
     "output_type": "display_data"
    }
   ],
   "source": [
    "# spot check to view proper distribution\n",
    "figure, axis = plt.subplots(1, 3)\n",
    "\n",
    "axis[0].hist(Ea, 40, density=True, edgecolor='black', label='Activation Energy')\n",
    "axis[0].set_title(\"Activation Energy\")\n",
    "\n",
    "axis[1].hist(X, 40, density=True, edgecolor='black', label='Activation Energy')\n",
    "axis[1].set_title(\"Irradiance Relation\")\n",
    "\n",
    "axis[2].hist(R0, 40, density=True, edgecolor='black', label='Activation Energy')\n",
    "axis[2].set_title(\"$R_0$\")\n"
   ]
  }
 ],
 "metadata": {
  "kernelspec": {
   "display_name": "Python 3",
   "language": "python",
   "name": "python3"
  },
  "language_info": {
   "codemirror_mode": {
    "name": "ipython",
    "version": 3
   },
   "file_extension": ".py",
   "mimetype": "text/x-python",
   "name": "python",
   "nbconvert_exporter": "python",
   "pygments_lexer": "ipython3",
   "version": "3.11.1"
  },
  "vscode": {
   "interpreter": {
    "hash": "aee8b7b246df8f9039afb4144a1f6fd8d2ca17a180786b69acc140d282b71a49"
   }
  }
 },
 "nbformat": 4,
 "nbformat_minor": 2
}
