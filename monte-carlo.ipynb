{
 "cells": [
  {
   "cell_type": "code",
   "execution_count": 4,
   "metadata": {},
   "outputs": [],
   "source": [
    "import credentials # Api key is stored in this file, remove to avoid errors if you clone from github\n",
    "\n",
    "import pvdeg\n",
    "import pvlib\n",
    "import os \n",
    "import matplotlib.pyplot as plt\n",
    "import numpy as np\n",
    "import pandas as pd \n",
    "from scipy.linalg import cholesky\n",
    "from scipy import stats"
   ]
  },
  {
   "cell_type": "markdown",
   "metadata": {},
   "source": [
    "First get weather data and metadata for a desired location (latitude and logitude)"
   ]
  },
  {
   "cell_type": "code",
   "execution_count": 2,
   "metadata": {},
   "outputs": [
    {
     "name": "stderr",
     "output_type": "stream",
     "text": [
      "c:\\ProgramData\\anaconda3\\envs\\monte-carlo\\lib\\site-packages\\pvlib\\iotools\\psm3.py:183: pvlibDeprecationWarning: The ``get_psm3`` function will default to leap_day=True starting in pvlib 0.11.0. Specify leap_day=True to enable this behavior now, or specify leap_day=False to hide this warning.\n",
      "  warnings.warn(\n"
     ]
    }
   ],
   "source": [
    "# change to desired values (currently Miami)\n",
    "latitude = 25.783388\n",
    "longitude = -80.189029\n",
    "\n",
    "API_KEY = credentials.API_KEY # my personal NREL api key\n",
    "email ='tobin.ford@nrel.gov' # replace these values with your appropriate information and remove and comment out first line of first block (import credentials)\n",
    "\n",
    "# reads NSRDB data \n",
    "weather_df, meta = pvlib.iotools.get_psm3(latitude, longitude, API_KEY, email, names='2019', map_variables=True)"
   ]
  },
  {
   "cell_type": "markdown",
   "metadata": {},
   "source": [
    "User has 3 parameters for initial implementation: See Kempe's \"Deg Miami\" tab in excel<br>\n"
   ]
  },
  {
   "attachments": {},
   "cell_type": "markdown",
   "metadata": {},
   "source": [
    "\n",
    "activation energy, Ea <br>\n",
    "irradiance relation, x<br>\n",
    "ln(R0)<br>\n",
    "\n",
    "|           |   Ea   |   x   | ln(R0) |\n",
    "|:---------:|:-----:|:----:|:-------:|\n",
    "|   **Ea**  |   1   |   a  |   b     |\n",
    "|   **x**   |   a   |   1  |   c     |\n",
    "| **ln(R0)**|   b   |   c  |   1     |\n",
    "\n",
    "Notice symmetry across diagonal <br>"
   ]
  },
  {
   "cell_type": "code",
   "execution_count": 102,
   "metadata": {},
   "outputs": [],
   "source": [
    "# USER ENTERED VALUES\n",
    "# Correlation Coefficients\n",
    "Ea_X = 0.0269\n",
    "Ea_lnR0 = -0.9995 \n",
    "X_lnR0 = -0.0400\n",
    "\n",
    "# Activation Energy\n",
    "mean_Ea = 62.08 # average\n",
    "sd_Ea = 7.3858 # standard deviation\n",
    "\n",
    "# Irradiance relation\n",
    "mean_X = 0.0341 # average\n",
    "sd_X = 0.0992757 # standard deviation\n",
    "\n",
    "# ln(R0)\n",
    "mean_lnR0 = 13.7223084 \n",
    "sd_lnR0 = 2.47334772\n",
    "\n",
    "# number of iterations\n",
    "n = 20000\n"
   ]
  },
  {
   "cell_type": "code",
   "execution_count": 118,
   "metadata": {},
   "outputs": [],
   "source": [
    "# notice symmetry of matrix\n",
    "A = np.array([[1,   Ea_X,   Ea_lnR0],\n",
    "              [Ea_X,    1,   X_lnR0],\n",
    "              [Ea_lnR0, X_lnR0,   1]])\n",
    "\n",
    "# conceptually similar to the square root of a matrix\n",
    "A_decomp = cholesky(A, lower=True) \n",
    "\n",
    "# generating standard distribution of points for each\n",
    "#ea = np.random.normal(mean_Ea, sd_Ea, 20_000)\n",
    "#x, lnR0 = np.random.normal(mean_Ea, sd_Ea, 20_000), np.random.normal(mean_X, sd_X, 20_000), np.random.normal(mean_lnR0, sd_lnR0, 20_000)\n",
    "\n",
    "\n",
    "# an attempt to try what I am seeing in the excel macro data\n",
    "# only ea has standard distribution based on mean and sd\n",
    "# x and lnR0 have the regular standard distribution to be used in decomposition?\n",
    "# this mimics the behavior in the macro\n",
    "\n",
    "#ea = np.random.normal(mean_Ea, sd_Ea, n) \n",
    "\n",
    "ea = np.random.normal(loc=0, scale=1, size=n)\n",
    "x = np.random.normal(loc=0, scale=1, size=n)\n",
    "lnR0 = np.random.normal(loc=0, scale=1, size=n)\n",
    "\n",
    "\n",
    "# transpose built in so I don't have to do it with another function\n",
    "samples_matrix = np.array([ea, x, lnR0])\n",
    "\n",
    "data = {\n",
    "    'ea': ea,\n",
    "    'x': x,\n",
    "    'lnR0': lnR0\n",
    "}\n",
    "\n",
    "uncorrelated_df = pd.DataFrame(data)\n"
   ]
  },
  {
   "cell_type": "code",
   "execution_count": 105,
   "metadata": {},
   "outputs": [
    {
     "data": {
      "text/plain": [
       "array([[ 1.    ,  0.0269, -0.9995],\n",
       "       [ 0.0269,  1.    , -0.04  ],\n",
       "       [-0.9995, -0.04  ,  1.    ]])"
      ]
     },
     "execution_count": 105,
     "metadata": {},
     "output_type": "execute_result"
    }
   ],
   "source": [
    "A"
   ]
  },
  {
   "cell_type": "code",
   "execution_count": 106,
   "metadata": {},
   "outputs": [
    {
     "data": {
      "text/plain": [
       "array([[ 1.        ,  0.        ,  0.        ],\n",
       "       [ 0.0269    ,  0.99963813,  0.        ],\n",
       "       [-0.9995    , -0.0131182 ,  0.02876913]])"
      ]
     },
     "execution_count": 106,
     "metadata": {},
     "output_type": "execute_result"
    }
   ],
   "source": [
    "A_decomp"
   ]
  },
  {
   "cell_type": "code",
   "execution_count": 68,
   "metadata": {},
   "outputs": [],
   "source": [
    "# these are one trial of kempe's before he does the decomp\n",
    "# Ea: 63.51\n",
    "# X: 0.7078\n",
    "# LnR0; -0.324\n",
    "\n",
    "# now my data matches his pre-decomp, changed distributions (see above block + comments)"
   ]
  },
  {
   "cell_type": "code",
   "execution_count": 69,
   "metadata": {},
   "outputs": [
    {
     "name": "stdout",
     "output_type": "stream",
     "text": [
      "27.07733841747733\n",
      "91.4510164750473\n",
      "\n",
      "-0.3391959505357475\n",
      "0.4322401261723464\n",
      "\n",
      "3.526823005435915\n",
      "24.161556618039064\n",
      "\n"
     ]
    }
   ],
   "source": [
    "print(ea.min())\n",
    "print(ea.max())\n",
    "print()\n",
    "\n",
    "print(x.min())\n",
    "print(x.max())\n",
    "print()\n",
    "\n",
    "print(lnR0.min())\n",
    "print(lnR0.max())\n",
    "print()"
   ]
  },
  {
   "cell_type": "code",
   "execution_count": 107,
   "metadata": {},
   "outputs": [],
   "source": [
    "# correlated stats pre-input to function\n",
    "\n",
    "# not entirely sure what I should do here,\n",
    "# do i multiply the transpose by the lower cholesky to get correlated input data for the equation on the spreadsheet\n",
    "# using MonteCarloEaLnRoX\n",
    "\n",
    "# this gives us correlated input samples\n",
    "# looks like what kempe's code was doing in \"MonteCarloEaLnRoX\" but it is hard to tell what's happening in his code\n",
    "correlated_samples = np.matmul(A_decomp, samples_matrix)\n",
    "\n",
    "correlated_df = pd.DataFrame(correlated_samples.T, columns=['ea', 'x', 'lnR0'])\n",
    "\n",
    "sol_pos = pvdeg.spectral.solar_position(weather_df, meta)\n",
    "poa_irradiance = pvdeg.spectral.poa_irradiance(weather_df, meta)\n",
    "temp_mod = pvdeg.temperature.module(weather_df=weather_df, meta=meta, poa=poa_irradiance, conf='open_rack_glass_polymer')\n",
    "# we only care about global irradiance in this case\n"
   ]
  },
  {
   "cell_type": "code",
   "execution_count": 71,
   "metadata": {},
   "outputs": [
    {
     "name": "stdout",
     "output_type": "stream",
     "text": [
      "              ea         x       lnR0\n",
      "0      64.988895 -0.017102  15.440178\n",
      "1      64.470212  0.087281  16.249761\n",
      "2      59.839005  0.185417  16.050443\n",
      "3      49.942103  0.061757  15.015683\n",
      "4      55.203570 -0.035814  14.708526\n",
      "...          ...       ...        ...\n",
      "19995  57.456498 -0.007369  12.506731\n",
      "19996  63.807519  0.001583   8.984753\n",
      "19997  57.505258  0.046737  14.424287\n",
      "19998  65.870998  0.101847   9.487176\n",
      "19999  52.036715 -0.115932  14.741607\n",
      "\n",
      "[20000 rows x 3 columns]\n"
     ]
    }
   ],
   "source": [
    "print(correlated_df)"
   ]
  },
  {
   "cell_type": "code",
   "execution_count": 108,
   "metadata": {},
   "outputs": [
    {
     "name": "stdout",
     "output_type": "stream",
     "text": [
      "-0.010298182357210896\n",
      "0.9981098303041948\n",
      "0.010800181449826758\n",
      "0.9979808202407752\n",
      "0.004504390091954463\n",
      "0.9956684416383704\n"
     ]
    }
   ],
   "source": [
    "# attempting to compare my function input values to kempe's from macro\n",
    "# Ea min:30.187\n",
    "# Ea max:89.94\n",
    "\n",
    "# lnR0 min: 4.477\n",
    "# lnR0 max: 24.31\n",
    "\n",
    "# X min:-0.387\n",
    "# X max: 0.415\n",
    "\n",
    "# uncorrelated samples of mine, random but should be sim\n",
    "'''\n",
    "ea\n",
    "34.50720101130711\n",
    "95.14753086962446\n",
    "\n",
    "lnR0\n",
    "4.258833206368452\n",
    "23.659585717113735\n",
    "\n",
    "x\n",
    "-0.349302212696885\n",
    "0.4300323062342357\n",
    "'''\n",
    "# these are very similar to kempes that he was feeding to the arrhenius equation in the macro, not similar to my correlated variables at all?\n",
    "# what happens if i feed my uncorrelated variables to the function\n",
    "\n",
    "\n",
    "print(correlated_df['ea'].mean())\n",
    "print(correlated_df['ea'].std())\n",
    "\n",
    "print(correlated_df['lnR0'].mean())\n",
    "print(correlated_df['lnR0'].std())\n",
    "\n",
    "print(correlated_df['x'].mean())\n",
    "print(correlated_df['x'].std())\n",
    "\n",
    "# can conclude there is something weird happening with my input data. "
   ]
  },
  {
   "cell_type": "code",
   "execution_count": 113,
   "metadata": {},
   "outputs": [],
   "source": [
    "Ea_New = sd_Ea * ea.std() + mean_Ea\n",
    "lnR0_New = sd_lnR0 * lnR0.std() + mean_lnR0\n",
    "x_NEW = sd_X * x.std() + mean_X"
   ]
  },
  {
   "cell_type": "code",
   "execution_count": 114,
   "metadata": {},
   "outputs": [
    {
     "name": "stdout",
     "output_type": "stream",
     "text": [
      "69.45165528636734\n",
      "13.7223084\n",
      "0.0341\n"
     ]
    }
   ],
   "source": [
    "print(Ea_New)\n",
    "print(lnR0_New)\n",
    "print(x_NEW)"
   ]
  },
  {
   "cell_type": "code",
   "execution_count": 119,
   "metadata": {},
   "outputs": [
    {
     "data": {
      "text/html": [
       "<div>\n",
       "<style scoped>\n",
       "    .dataframe tbody tr th:only-of-type {\n",
       "        vertical-align: middle;\n",
       "    }\n",
       "\n",
       "    .dataframe tbody tr th {\n",
       "        vertical-align: top;\n",
       "    }\n",
       "\n",
       "    .dataframe thead th {\n",
       "        text-align: right;\n",
       "    }\n",
       "</style>\n",
       "<table border=\"1\" class=\"dataframe\">\n",
       "  <thead>\n",
       "    <tr style=\"text-align: right;\">\n",
       "      <th></th>\n",
       "      <th>ea</th>\n",
       "      <th>x</th>\n",
       "      <th>lnR0</th>\n",
       "    </tr>\n",
       "  </thead>\n",
       "  <tbody>\n",
       "    <tr>\n",
       "      <th>0</th>\n",
       "      <td>2.059591</td>\n",
       "      <td>0.761724</td>\n",
       "      <td>-0.750288</td>\n",
       "    </tr>\n",
       "    <tr>\n",
       "      <th>1</th>\n",
       "      <td>-1.715056</td>\n",
       "      <td>-0.476199</td>\n",
       "      <td>0.303484</td>\n",
       "    </tr>\n",
       "    <tr>\n",
       "      <th>2</th>\n",
       "      <td>0.420392</td>\n",
       "      <td>-1.344562</td>\n",
       "      <td>1.134772</td>\n",
       "    </tr>\n",
       "    <tr>\n",
       "      <th>3</th>\n",
       "      <td>1.499597</td>\n",
       "      <td>-0.796474</td>\n",
       "      <td>0.174099</td>\n",
       "    </tr>\n",
       "    <tr>\n",
       "      <th>4</th>\n",
       "      <td>1.113856</td>\n",
       "      <td>-0.801054</td>\n",
       "      <td>0.066175</td>\n",
       "    </tr>\n",
       "  </tbody>\n",
       "</table>\n",
       "</div>"
      ],
      "text/plain": [
       "         ea         x      lnR0\n",
       "0  2.059591  0.761724 -0.750288\n",
       "1 -1.715056 -0.476199  0.303484\n",
       "2  0.420392 -1.344562  1.134772\n",
       "3  1.499597 -0.796474  0.174099\n",
       "4  1.113856 -0.801054  0.066175"
      ]
     },
     "execution_count": 119,
     "metadata": {},
     "output_type": "execute_result"
    }
   ],
   "source": [
    "uncorrelated_df.head(5)"
   ]
  },
  {
   "cell_type": "code",
   "execution_count": 180,
   "metadata": {},
   "outputs": [
    {
     "name": "stdout",
     "output_type": "stream",
     "text": [
      "(3, 20000)\n",
      "(1, 3)\n",
      "[[ 2.05959133 -1.71505622  0.42039215 ...  0.44976816 -0.99888557\n",
      "  -2.09302951]\n",
      " [ 0.81685117 -0.52216167 -1.33276686 ...  0.66983073 -0.15962617\n",
      "   1.24176431]\n",
      " [-2.09013911  1.72917653 -0.36989731 ... -0.44474703  1.00233782\n",
      "   2.06899747]]\n",
      "[[7.3858     0.0992757  2.47334772]]\n"
     ]
    }
   ],
   "source": [
    "temp = np.matrix(np.matmul(A_decomp, samples_matrix))\n",
    "print(temp.shape)\n",
    "\n",
    "sd_mat = np.matrix([sd_Ea, sd_X, sd_lnR0]) \n",
    "print(sd_mat.shape)\n",
    "\n",
    "print(temp, end='\\n')\n",
    "print(sd_mat)\n"
   ]
  },
  {
   "cell_type": "code",
   "execution_count": 188,
   "metadata": {},
   "outputs": [
    {
     "name": "stdout",
     "output_type": "stream",
     "text": [
      "[[ 7.72917296e+01  4.94129378e+01  6.51849324e+01 ...  6.54018977e+01\n",
      "   5.47024310e+01  4.66213027e+01]\n",
      " [ 1.15193471e-01 -1.77379657e-02 -9.82113633e-02 ...  1.00597915e-01\n",
      "   1.82529998e-02  1.57377021e-01]\n",
      " [ 8.55266759e+00  1.79991632e+01  1.28074237e+01 ...  1.26222944e+01\n",
      "   1.62014384e+01  1.88396586e+01]]\n"
     ]
    }
   ],
   "source": [
    "sd_mat_transpose = np.transpose(sd_mat)\n",
    "\n",
    "result = np.multiply(temp, sd_mat_transpose) + np.transpose(np.matrix([mean_Ea, mean_X, mean_lnR0]))\n",
    "print(result)\n"
   ]
  },
  {
   "cell_type": "code",
   "execution_count": 190,
   "metadata": {},
   "outputs": [
    {
     "name": "stdout",
     "output_type": "stream",
     "text": [
      "62.07521558072824\n",
      "7.4422903843661\n",
      "\n",
      "0.03412382762871065\n",
      "0.0991614206324547\n",
      "\n",
      "13.72347143507861\n",
      "2.4917183935255873\n"
     ]
    }
   ],
   "source": [
    "print(result[0].mean())\n",
    "print(result[0].std())\n",
    "print()\n",
    "print(result[1].mean())\n",
    "print(result[1].std())\n",
    "print()\n",
    "print(result[2].mean())\n",
    "print(result[2].std())"
   ]
  },
  {
   "cell_type": "code",
   "execution_count": 194,
   "metadata": {},
   "outputs": [
    {
     "name": "stdout",
     "output_type": "stream",
     "text": [
      "EA_X: [[1.         0.02573158]\n",
      " [0.02573158 1.        ]]\n",
      "Ea_lnR0: [[ 1.        -0.9995067]\n",
      " [-0.9995067  1.       ]]\n",
      "X_lnR0: [[ 1.        -0.0389422]\n",
      " [-0.0389422  1.       ]]\n"
     ]
    }
   ],
   "source": [
    "print(\"EA_X:\", np.corrcoef(result[0], result[1]))\n",
    "print(\"Ea_lnR0:\", np.corrcoef(result[0], result[2]))\n",
    "print(\"X_lnR0:\", np.corrcoef(result[1], result[2]))"
   ]
  },
  {
   "cell_type": "code",
   "execution_count": 204,
   "metadata": {},
   "outputs": [],
   "source": [
    "correlated_df = pd.DataFrame(np.transpose(result), columns=['ea', 'x', 'lnR0'])"
   ]
  },
  {
   "cell_type": "code",
   "execution_count": 205,
   "metadata": {},
   "outputs": [
    {
     "data": {
      "text/html": [
       "<div>\n",
       "<style scoped>\n",
       "    .dataframe tbody tr th:only-of-type {\n",
       "        vertical-align: middle;\n",
       "    }\n",
       "\n",
       "    .dataframe tbody tr th {\n",
       "        vertical-align: top;\n",
       "    }\n",
       "\n",
       "    .dataframe thead th {\n",
       "        text-align: right;\n",
       "    }\n",
       "</style>\n",
       "<table border=\"1\" class=\"dataframe\">\n",
       "  <thead>\n",
       "    <tr style=\"text-align: right;\">\n",
       "      <th></th>\n",
       "      <th>ea</th>\n",
       "      <th>x</th>\n",
       "      <th>lnR0</th>\n",
       "    </tr>\n",
       "  </thead>\n",
       "  <tbody>\n",
       "    <tr>\n",
       "      <th>0</th>\n",
       "      <td>77.291730</td>\n",
       "      <td>0.115193</td>\n",
       "      <td>8.552668</td>\n",
       "    </tr>\n",
       "    <tr>\n",
       "      <th>1</th>\n",
       "      <td>49.412938</td>\n",
       "      <td>-0.017738</td>\n",
       "      <td>17.999163</td>\n",
       "    </tr>\n",
       "    <tr>\n",
       "      <th>2</th>\n",
       "      <td>65.184932</td>\n",
       "      <td>-0.098211</td>\n",
       "      <td>12.807424</td>\n",
       "    </tr>\n",
       "    <tr>\n",
       "      <th>3</th>\n",
       "      <td>73.155725</td>\n",
       "      <td>-0.040937</td>\n",
       "      <td>10.053368</td>\n",
       "    </tr>\n",
       "    <tr>\n",
       "      <th>4</th>\n",
       "      <td>70.306718</td>\n",
       "      <td>-0.042422</td>\n",
       "      <td>10.999432</td>\n",
       "    </tr>\n",
       "  </tbody>\n",
       "</table>\n",
       "</div>"
      ],
      "text/plain": [
       "          ea         x       lnR0\n",
       "0  77.291730  0.115193   8.552668\n",
       "1  49.412938 -0.017738  17.999163\n",
       "2  65.184932 -0.098211  12.807424\n",
       "3  73.155725 -0.040937  10.053368\n",
       "4  70.306718 -0.042422  10.999432"
      ]
     },
     "execution_count": 205,
     "metadata": {},
     "output_type": "execute_result"
    }
   ],
   "source": [
    "correlated_df.head()"
   ]
  },
  {
   "cell_type": "code",
   "execution_count": 211,
   "metadata": {},
   "outputs": [],
   "source": [
    "def mikeArrhenius(weather_df, samples):\n",
    "\n",
    "    #['e', 'x', 'lnR0']\n",
    "    \n",
    "    d = [(np.exp(z) * np.exp((x / 8.31446261815324E-03) / (273.15 + temp_mod)) * (poa_irradiance['poa_global'] / 1000 ) ** y) for x, y, z in zip(samples['ea'], samples['x'], samples['lnR0'])]\n",
    "    # -> suns of irradiance\n",
    "\n",
    "    \n",
    "\n",
    "    return (pd.DataFrame(d) / len(weather_df))"
   ]
  },
  {
   "cell_type": "code",
   "execution_count": 212,
   "metadata": {},
   "outputs": [],
   "source": [
    "temp2 = mikeArrhenius(weather_df=weather_df, samples=correlated_df) \n",
    "\n",
    "# trying with uncorrelated variables"
   ]
  },
  {
   "cell_type": "code",
   "execution_count": 213,
   "metadata": {},
   "outputs": [
    {
     "data": {
      "text/html": [
       "<div>\n",
       "<style scoped>\n",
       "    .dataframe tbody tr th:only-of-type {\n",
       "        vertical-align: middle;\n",
       "    }\n",
       "\n",
       "    .dataframe tbody tr th {\n",
       "        vertical-align: top;\n",
       "    }\n",
       "\n",
       "    .dataframe thead th {\n",
       "        text-align: right;\n",
       "    }\n",
       "</style>\n",
       "<table border=\"1\" class=\"dataframe\">\n",
       "  <thead>\n",
       "    <tr style=\"text-align: right;\">\n",
       "      <th></th>\n",
       "      <th>0</th>\n",
       "    </tr>\n",
       "  </thead>\n",
       "  <tbody>\n",
       "    <tr>\n",
       "      <th>0</th>\n",
       "      <td>3.220866e+16</td>\n",
       "    </tr>\n",
       "    <tr>\n",
       "      <th>1</th>\n",
       "      <td>inf</td>\n",
       "    </tr>\n",
       "    <tr>\n",
       "      <th>2</th>\n",
       "      <td>inf</td>\n",
       "    </tr>\n",
       "    <tr>\n",
       "      <th>3</th>\n",
       "      <td>inf</td>\n",
       "    </tr>\n",
       "    <tr>\n",
       "      <th>4</th>\n",
       "      <td>inf</td>\n",
       "    </tr>\n",
       "    <tr>\n",
       "      <th>5</th>\n",
       "      <td>inf</td>\n",
       "    </tr>\n",
       "    <tr>\n",
       "      <th>6</th>\n",
       "      <td>inf</td>\n",
       "    </tr>\n",
       "    <tr>\n",
       "      <th>7</th>\n",
       "      <td>1.239178e+16</td>\n",
       "    </tr>\n",
       "    <tr>\n",
       "      <th>8</th>\n",
       "      <td>2.248793e+16</td>\n",
       "    </tr>\n",
       "    <tr>\n",
       "      <th>9</th>\n",
       "      <td>inf</td>\n",
       "    </tr>\n",
       "    <tr>\n",
       "      <th>10</th>\n",
       "      <td>2.578748e+16</td>\n",
       "    </tr>\n",
       "    <tr>\n",
       "      <th>11</th>\n",
       "      <td>2.687993e+16</td>\n",
       "    </tr>\n",
       "    <tr>\n",
       "      <th>12</th>\n",
       "      <td>2.088455e+16</td>\n",
       "    </tr>\n",
       "    <tr>\n",
       "      <th>13</th>\n",
       "      <td>2.051887e+16</td>\n",
       "    </tr>\n",
       "    <tr>\n",
       "      <th>14</th>\n",
       "      <td>2.863315e+16</td>\n",
       "    </tr>\n",
       "    <tr>\n",
       "      <th>15</th>\n",
       "      <td>7.189344e+15</td>\n",
       "    </tr>\n",
       "    <tr>\n",
       "      <th>16</th>\n",
       "      <td>inf</td>\n",
       "    </tr>\n",
       "    <tr>\n",
       "      <th>17</th>\n",
       "      <td>3.795290e+16</td>\n",
       "    </tr>\n",
       "    <tr>\n",
       "      <th>18</th>\n",
       "      <td>inf</td>\n",
       "    </tr>\n",
       "    <tr>\n",
       "      <th>19</th>\n",
       "      <td>4.816905e+15</td>\n",
       "    </tr>\n",
       "    <tr>\n",
       "      <th>20</th>\n",
       "      <td>9.773964e+15</td>\n",
       "    </tr>\n",
       "    <tr>\n",
       "      <th>21</th>\n",
       "      <td>1.721778e+16</td>\n",
       "    </tr>\n",
       "    <tr>\n",
       "      <th>22</th>\n",
       "      <td>2.398365e+16</td>\n",
       "    </tr>\n",
       "    <tr>\n",
       "      <th>23</th>\n",
       "      <td>inf</td>\n",
       "    </tr>\n",
       "  </tbody>\n",
       "</table>\n",
       "</div>"
      ],
      "text/plain": [
       "               0\n",
       "0   3.220866e+16\n",
       "1            inf\n",
       "2            inf\n",
       "3            inf\n",
       "4            inf\n",
       "5            inf\n",
       "6            inf\n",
       "7   1.239178e+16\n",
       "8   2.248793e+16\n",
       "9            inf\n",
       "10  2.578748e+16\n",
       "11  2.687993e+16\n",
       "12  2.088455e+16\n",
       "13  2.051887e+16\n",
       "14  2.863315e+16\n",
       "15  7.189344e+15\n",
       "16           inf\n",
       "17  3.795290e+16\n",
       "18           inf\n",
       "19  4.816905e+15\n",
       "20  9.773964e+15\n",
       "21  1.721778e+16\n",
       "22  2.398365e+16\n",
       "23           inf"
      ]
     },
     "execution_count": 213,
     "metadata": {},
     "output_type": "execute_result"
    }
   ],
   "source": [
    "temp2.head(24) \n",
    "# each row shows the degredation rate for that given monte carlo trial iteration\n",
    "# data frame indexes are integers corresponding to each trial"
   ]
  }
 ],
 "metadata": {
  "kernelspec": {
   "display_name": "Python 3",
   "language": "python",
   "name": "python3"
  },
  "language_info": {
   "codemirror_mode": {
    "name": "ipython",
    "version": 3
   },
   "file_extension": ".py",
   "mimetype": "text/x-python",
   "name": "python",
   "nbconvert_exporter": "python",
   "pygments_lexer": "ipython3",
   "version": "3.10.9"
  },
  "vscode": {
   "interpreter": {
    "hash": "aee8b7b246df8f9039afb4144a1f6fd8d2ca17a180786b69acc140d282b71a49"
   }
  }
 },
 "nbformat": 4,
 "nbformat_minor": 2
}
