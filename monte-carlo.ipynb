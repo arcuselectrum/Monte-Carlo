{
 "cells": [
  {
   "cell_type": "code",
   "execution_count": 2,
   "metadata": {},
   "outputs": [],
   "source": [
    "import credentials # Api key is stored in this file, remove to avoid errors if you clone from github\n",
    "\n",
    "import pvdeg\n",
    "import pvlib\n",
    "import os \n",
    "import matplotlib.pyplot as plt\n",
    "import numpy as np\n",
    "import pandas as pd "
   ]
  },
  {
   "cell_type": "markdown",
   "metadata": {},
   "source": [
    "First get weather data for a desired location (latitude and logitude)"
   ]
  },
  {
   "cell_type": "code",
   "execution_count": 8,
   "metadata": {},
   "outputs": [
    {
     "ename": "AttributeError",
     "evalue": "module 'credentials' has no attribute 'email'",
     "output_type": "error",
     "traceback": [
      "\u001b[1;31m---------------------------------------------------------------------------\u001b[0m",
      "\u001b[1;31mAttributeError\u001b[0m                            Traceback (most recent call last)",
      "\u001b[1;32mc:\\Users\\tford\\dev\\Monte-Carlo\\Monte-Carlo\\monte-carlo.ipynb Cell 3\u001b[0m line \u001b[0;36m5\n\u001b[0;32m      <a href='vscode-notebook-cell:/c%3A/Users/tford/dev/Monte-Carlo/Monte-Carlo/monte-carlo.ipynb#W1sZmlsZQ%3D%3D?line=1'>2</a>\u001b[0m longitude \u001b[39m=\u001b[39m \u001b[39m80.1918\u001b[39m\n\u001b[0;32m      <a href='vscode-notebook-cell:/c%3A/Users/tford/dev/Monte-Carlo/Monte-Carlo/monte-carlo.ipynb#W1sZmlsZQ%3D%3D?line=3'>4</a>\u001b[0m API_KEY \u001b[39m=\u001b[39m credentials\u001b[39m.\u001b[39mAPI_KEY \u001b[39m# my personal NREL api key\u001b[39;00m\n\u001b[1;32m----> <a href='vscode-notebook-cell:/c%3A/Users/tford/dev/Monte-Carlo/Monte-Carlo/monte-carlo.ipynb#W1sZmlsZQ%3D%3D?line=4'>5</a>\u001b[0m EMAIL \u001b[39m=\u001b[39m credentials\u001b[39m.\u001b[39;49memail \u001b[39m# my personal email\u001b[39;00m\n\u001b[0;32m      <a href='vscode-notebook-cell:/c%3A/Users/tford/dev/Monte-Carlo/Monte-Carlo/monte-carlo.ipynb#W1sZmlsZQ%3D%3D?line=5'>6</a>\u001b[0m \u001b[39m# replace these values with your appropriate information and remove or comment out first line (import credentials)\u001b[39;00m\n\u001b[0;32m      <a href='vscode-notebook-cell:/c%3A/Users/tford/dev/Monte-Carlo/Monte-Carlo/monte-carlo.ipynb#W1sZmlsZQ%3D%3D?line=8'>9</a>\u001b[0m weatherTMY, metadata \u001b[39m=\u001b[39m pvlib\u001b[39m.\u001b[39miotools\u001b[39m.\u001b[39mget_psm3(latitude, longitude, API_KEY, EMAIL)\n",
      "\u001b[1;31mAttributeError\u001b[0m: module 'credentials' has no attribute 'email'"
     ]
    }
   ],
   "source": [
    "latitude = 25.7617\n",
    "longitude = 80.1918\n",
    "\n",
    "API_KEY = credentials.API_KEY # my personal NREL api key\n",
    "EMAIL = credentials.EMAIL # my personal email\n",
    "# replace these values with your appropriate information and remove or comment out first line (import credentials)\n",
    "\n",
    "\n",
    "weatherTMY, metadata = pvlib.iotools.get_psm3(latitude, longitude, API_KEY, EMAIL)\n",
    "\n"
   ]
  }
 ],
 "metadata": {
  "kernelspec": {
   "display_name": "base",
   "language": "python",
   "name": "python3"
  },
  "language_info": {
   "codemirror_mode": {
    "name": "ipython",
    "version": 3
   },
   "file_extension": ".py",
   "mimetype": "text/x-python",
   "name": "python",
   "nbconvert_exporter": "python",
   "pygments_lexer": "ipython3",
   "version": "3.10.9"
  }
 },
 "nbformat": 4,
 "nbformat_minor": 2
}
