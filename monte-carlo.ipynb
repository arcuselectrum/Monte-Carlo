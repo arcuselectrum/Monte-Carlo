{
 "cells": [
  {
   "cell_type": "code",
   "execution_count": 2,
   "metadata": {},
   "outputs": [],
   "source": [
    "import credentials # Api key is stored in this file, remove to avoid errors if you clone from github\n",
    "\n",
    "import pvdeg\n",
    "import pvlib\n",
    "import os \n",
    "import matplotlib.pyplot as plt\n",
    "import numpy as np\n",
    "import pandas as pd "
   ]
  },
  {
   "cell_type": "markdown",
   "metadata": {},
   "source": [
    "First get weather data for a desired location (latitude and logitude)"
   ]
  },
  {
   "cell_type": "code",
   "execution_count": 15,
   "metadata": {},
   "outputs": [
    {
     "ename": "HTTPError",
     "evalue": "['No data available at the provided location', 'Data processing failure.']",
     "output_type": "error",
     "traceback": [
      "\u001b[1;31m---------------------------------------------------------------------------\u001b[0m",
      "\u001b[1;31mHTTPError\u001b[0m                                 Traceback (most recent call last)",
      "\u001b[1;32mc:\\Users\\tford\\dev\\Monte-Carlo\\Monte-Carlo\\monte-carlo.ipynb Cell 3\u001b[0m line \u001b[0;36m1\n\u001b[0;32m      <a href='vscode-notebook-cell:/c%3A/Users/tford/dev/Monte-Carlo/Monte-Carlo/monte-carlo.ipynb#W1sZmlsZQ%3D%3D?line=4'>5</a>\u001b[0m API_KEY \u001b[39m=\u001b[39m credentials\u001b[39m.\u001b[39mAPI_KEY \u001b[39m# my personal NREL api key\u001b[39;00m\n\u001b[0;32m      <a href='vscode-notebook-cell:/c%3A/Users/tford/dev/Monte-Carlo/Monte-Carlo/monte-carlo.ipynb#W1sZmlsZQ%3D%3D?line=5'>6</a>\u001b[0m \u001b[39m# replace these values with your appropriate information and remove or comment out first line (import credentials)\u001b[39;00m\n\u001b[0;32m      <a href='vscode-notebook-cell:/c%3A/Users/tford/dev/Monte-Carlo/Monte-Carlo/monte-carlo.ipynb#W1sZmlsZQ%3D%3D?line=6'>7</a>\u001b[0m \u001b[39m# maybe dont even need this\u001b[39;00m\n\u001b[0;32m      <a href='vscode-notebook-cell:/c%3A/Users/tford/dev/Monte-Carlo/Monte-Carlo/monte-carlo.ipynb#W1sZmlsZQ%3D%3D?line=7'>8</a>\u001b[0m \u001b[39m# this would be required for NSRDB\u001b[39;00m\n\u001b[0;32m      <a href='vscode-notebook-cell:/c%3A/Users/tford/dev/Monte-Carlo/Monte-Carlo/monte-carlo.ipynb#W1sZmlsZQ%3D%3D?line=8'>9</a>\u001b[0m \n\u001b[0;32m     <a href='vscode-notebook-cell:/c%3A/Users/tford/dev/Monte-Carlo/Monte-Carlo/monte-carlo.ipynb#W1sZmlsZQ%3D%3D?line=9'>10</a>\u001b[0m \u001b[39m# WEATHER, METADATA = pvdeg.weather.get('PVGIS', (latitude, longitude))\u001b[39;00m\n\u001b[1;32m---> <a href='vscode-notebook-cell:/c%3A/Users/tford/dev/Monte-Carlo/Monte-Carlo/monte-carlo.ipynb#W1sZmlsZQ%3D%3D?line=11'>12</a>\u001b[0m WEATHER, METADATA \u001b[39m=\u001b[39m pvlib\u001b[39m.\u001b[39;49miotools\u001b[39m.\u001b[39;49mget_psm3(latitude, longitude, API_KEY, email\u001b[39m=\u001b[39;49m\u001b[39m'\u001b[39;49m\u001b[39mtobin.ford@nrel.gov\u001b[39;49m\u001b[39m'\u001b[39;49m, names\u001b[39m=\u001b[39;49m\u001b[39m'\u001b[39;49m\u001b[39mtmy\u001b[39;49m\u001b[39m'\u001b[39;49m)\n",
      "File \u001b[1;32mc:\\ProgramData\\anaconda3\\lib\\site-packages\\pvlib\\iotools\\psm3.py:222\u001b[0m, in \u001b[0;36mget_psm3\u001b[1;34m(latitude, longitude, api_key, email, names, interval, attributes, leap_day, full_name, affiliation, map_variables, timeout)\u001b[0m\n\u001b[0;32m    220\u001b[0m     \u001b[39mexcept\u001b[39;00m JSONDecodeError:\n\u001b[0;32m    221\u001b[0m         errors \u001b[39m=\u001b[39m response\u001b[39m.\u001b[39mcontent\u001b[39m.\u001b[39mdecode(\u001b[39m'\u001b[39m\u001b[39mutf-8\u001b[39m\u001b[39m'\u001b[39m)\n\u001b[1;32m--> 222\u001b[0m     \u001b[39mraise\u001b[39;00m requests\u001b[39m.\u001b[39mHTTPError(errors, response\u001b[39m=\u001b[39mresponse)\n\u001b[0;32m    223\u001b[0m \u001b[39m# the CSV is in the response content as a UTF-8 bytestring\u001b[39;00m\n\u001b[0;32m    224\u001b[0m \u001b[39m# to use pandas we need to create a file buffer from the response\u001b[39;00m\n\u001b[0;32m    225\u001b[0m fbuf \u001b[39m=\u001b[39m io\u001b[39m.\u001b[39mStringIO(response\u001b[39m.\u001b[39mcontent\u001b[39m.\u001b[39mdecode(\u001b[39m'\u001b[39m\u001b[39mutf-8\u001b[39m\u001b[39m'\u001b[39m))\n",
      "\u001b[1;31mHTTPError\u001b[0m: ['No data available at the provided location', 'Data processing failure.']"
     ]
    }
   ],
   "source": [
    "# change to desired values (currently Miami)\n",
    "latitude = 25.7617\n",
    "longitude = 80.1918\n",
    "\n",
    "API_KEY = credentials.API_KEY # my personal NREL api key\n",
    "# replace these values with your appropriate information and remove or comment out first line (import credentials)\n",
    "# maybe dont even need this\n",
    "# this would be required for NSRDB\n",
    "\n",
    "# WEATHER, METADATA = pvdeg.weather.get('PVGIS', (latitude, longitude))\n",
    "\n",
    "WEATHER, METADATA = pvlib.iotools.get_psm3(latitude, longitude, '8WAHE3o6cJj1RWzQRJzdYdfnrp4QG6hgf7BeOpHa', email='tobin.ford@nrel.gov', names='tmy')"
   ]
  }
 ],
 "metadata": {
  "kernelspec": {
   "display_name": "base",
   "language": "python",
   "name": "python3"
  },
  "language_info": {
   "codemirror_mode": {
    "name": "ipython",
    "version": 3
   },
   "file_extension": ".py",
   "mimetype": "text/x-python",
   "name": "python",
   "nbconvert_exporter": "python",
   "pygments_lexer": "ipython3",
   "version": "3.10.9"
  }
 },
 "nbformat": 4,
 "nbformat_minor": 2
}
