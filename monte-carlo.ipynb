{
 "cells": [
  {
   "cell_type": "code",
   "execution_count": 54,
   "metadata": {},
   "outputs": [],
   "source": [
    "import credentials # Api key is stored in this file, remove to avoid errors if you clone from github\n",
    "\n",
    "import pvdeg\n",
    "import pvlib\n",
    "import os \n",
    "import matplotlib.pyplot as plt\n",
    "import numpy as np\n",
    "import pandas as pd \n",
    "from scipy.linalg import cholesky"
   ]
  },
  {
   "cell_type": "markdown",
   "metadata": {},
   "source": [
    "First get weather data and metadata for a desired location (latitude and logitude)"
   ]
  },
  {
   "cell_type": "code",
   "execution_count": 57,
   "metadata": {},
   "outputs": [
    {
     "name": "stdout",
     "output_type": "stream",
     "text": [
      "{'Source': 'NSRDB', 'Location ID': '1060699', 'City': '-', 'State': '-', 'Country': '-', 'Time Zone': -5, 'Local Time Zone': -5, 'Dew Point Units': 'c', 'DHI Units': 'w/m2', 'DNI Units': 'w/m2', 'GHI Units': 'w/m2', 'Temperature Units': 'c', 'Pressure Units': 'mbar', 'Wind Direction Units': 'Degrees', 'Wind Speed Units': 'm/s', 'Surface Albedo Units': 'N/A', 'Version': '3.2.0', 'latitude': 25.77, 'longitude': -80.18, 'altitude': 0}\n"
     ]
    }
   ],
   "source": [
    "# change to desired values (currently Miami)\n",
    "latitude = 25.783388\n",
    "longitude = -80.189029\n",
    "\n",
    "API_KEY = credentials.API_KEY # my personal NREL api key\n",
    "email ='tobin.ford@nrel.gov' # replace these values with your appropriate information and remove or comment out first line (import credentials)\n",
    "\n",
    "# reads NSRDB data \n",
    "WEATHER, METADATA = pvlib.iotools.get_psm3(latitude, longitude, API_KEY, email, names='tmy', map_variables=True)\n",
    "\n",
    "print(METADATA)"
   ]
  },
  {
   "cell_type": "markdown",
   "metadata": {},
   "source": [
    "User has 2 parameters for now \n",
    "\n",
    "Mean Activation Energy:              Standard dev:\n"
   ]
  },
  {
   "cell_type": "code",
   "execution_count": 77,
   "metadata": {},
   "outputs": [
    {
     "data": {
      "image/png": "[encoded data removed]",
      "text/plain": [
       "<Figure size 640x480 with 1 Axes>"
      ]
     },
     "metadata": {},
     "output_type": "display_data"
    }
   ],
   "source": [
    "mean_Ea = 129\n",
    "sd_Ea = 3.4 \n",
    "\n",
    "samples_Ea = np.random.normal(mean_Ea, sd_Ea, 20_000)\n",
    "\n",
    "count, bins, ignored = plt.hist(samples_Ea, 40, density=True, edgecolor='black')"
   ]
  },
  {
   "cell_type": "code",
   "execution_count": 75,
   "metadata": {},
   "outputs": [
    {
     "name": "stdout",
     "output_type": "stream",
     "text": [
      "[[ 1.   0.5  0.4  0.3]\n",
      " [ 0.5  1.   0.2  0.1]\n",
      " [ 0.4  0.2  1.  -0.1]\n",
      " [ 0.3  0.1 -0.1  1. ]]\n",
      "\n",
      "[[ 1.          0.          0.          0.        ]\n",
      " [ 0.5         0.8660254   0.          0.        ]\n",
      " [ 0.4         0.          0.91651514  0.        ]\n",
      " [ 0.3        -0.05773503 -0.24003968  0.9214378 ]]\n"
     ]
    }
   ],
   "source": [
    "# users will enter parameters around here\n",
    "# currently 3x3 but function works on NxN matricies\n",
    "# fails if diagonal entry is negative :: -a_(n, n)\n",
    "# because they should all be ones\n",
    "text = [[1, 0.5, 0.4, 0.3], [0.5, 1, 0.2, 0.1], [0.4, 0.2, 1, -0.1], [0.3, 0.1, -0.1, 1]]\n",
    "A = np.array(text)\n",
    "\n",
    "print(A)\n",
    "\n",
    "post_cholesky = cholesky(A, lower=True)\n",
    "print()\n",
    "print(post_cholesky)\n"
   ]
  }
 ],
 "metadata": {
  "kernelspec": {
   "display_name": "base",
   "language": "python",
   "name": "python3"
  },
  "language_info": {
   "codemirror_mode": {
    "name": "ipython",
    "version": 3
   },
   "file_extension": ".py",
   "mimetype": "text/x-python",
   "name": "python",
   "nbconvert_exporter": "python",
   "pygments_lexer": "ipython3",
   "version": "3.10.9"
  }
 },
 "nbformat": 4,
 "nbformat_minor": 2
}
